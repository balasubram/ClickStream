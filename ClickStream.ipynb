{
 "cells": [
  {
   "cell_type": "markdown",
   "metadata": {},
   "source": [
    "## ClickStream Dataset:\n",
    "\n",
    "The dataset shared is a data available of shopping cart website `\"acme.com\"`. We are going to analyze the dataset and perform some operations. The available dataset contains 178 columns separated by Tab. Of the 178 columns only 7 to columns are useful for analysis. The task here is to retrieve those necessary columns and answer the question related to the analysis. The necessary columns and their position and their description are given below.\n",
    "\n",
    "\n",
    "Field and where they occur in the dataset.\n",
    "\n",
    "      ++++++++++++++++++++++++++++++++++++++++++++++++++++++++++++++++++++++++++++++++++++++++++++++++++++++++++++\n",
    "            Field  Name        +        Position   +      Notes\n",
    "      ++++++++++++++++++++++++++++++++++++++++++++++++++++++++++++++++++++++++++++++++++++++++++++++++++++++++++++\n",
    "            time stamp         +           2       +  It is in the format YYYY-MM-DD HH:mm:SS\n",
    "      ++++++++++++++++++++++++++++++++++++++++++++++++++++++++++++++++++++++++++++++++++++++++++++++++++++++++++++\n",
    "            IP                 +           8       +        \n",
    "      ++++++++++++++++++++++++++++++++++++++++++++++++++++++++++++++++++++++++++++++++++++++++++++++++++++++++++++\n",
    "            url accessed       +           13      +       \n",
    "      ++++++++++++++++++++++++++++++++++++++++++++++++++++++++++++++++++++++++++++++++++++++++++++++++++++++++++++\n",
    "            user id            +           14      + Contains additional special characters and \n",
    "                                                   + it needs to be removed        \n",
    "      ++++++++++++++++++++++++++++++++++++++++++++++++++++++++++++++++++++++++++++++++++++++++++++++++++++++++++++\n",
    "            Session End time   +           40      + Contains some junk values at the end like '4 240'\n",
    "                                                   + and it needs to be removed              \n",
    "     +++++++++++++++++++++++++++++++++++++++++++++++++++++++++++++++++++++++++++++++++++++++++++++++++++++++++++++\n",
    "            user agent         +           44      +   \n",
    "     +++++++++++++++++++++++++++++++++++++++++++++++++++++++++++++++++++++++++++++++++++++++++++++++++++++++++++++\n",
    "            city               +           50      +   \n",
    "     +++++++++++++++++++++++++++++++++++++++++++++++++++++++++++++++++++++++++++++++++++++++++++++++++++++++++++++\n",
    "            country            +           51      + \n",
    "     +++++++++++++++++++++++++++++++++++++++++++++++++++++++++++++++++++++++++++++++++++++++++++++++++++++++++++++\n",
    "            state              +           53      + \n",
    "     +++++++++++++++++++++++++++++++++++++++++++++++++++++++++++++++++++++++++++++++++++++++++++++++++++++++++++++\n"
   ]
  },
  {
   "cell_type": "markdown",
   "metadata": {},
   "source": [
    "##### Why ClickStream Analysis is useful? Some pointers are given below.\n",
    "      I. https://www.qubole.com/blog/clickstream-data-analysis/\n",
    "     II. https://www.slideshare.net/intuitiv/clickstream-analysis\n",
    "    III. https://www.blendo.co/blog/clickstream-data-mining-techniques-introduction/\n",
    "    \n",
    "The above lists are not extensive. You can do your own research"
   ]
  },
  {
   "cell_type": "markdown",
   "metadata": {},
   "source": [
    "#### Tasks to be performed\n",
    "##### Data Wrangling\n",
    "      i. Read the data file\n",
    "     ii. Select the required fields\n",
    "    iii. Prune the date\n",
    "     iv. Sample the data\n",
    "     \n",
    "##### Data Analysis\n",
    "       i. Compute the number of users using Mozilla\n",
    "      ii. Number of different URLS visited each hour and how many?\n",
    "     iii. Group the visits based on Gender\n",
    "      iv. What is the most visited site?\n",
    "       v. What is the most favourd product?\n",
    "      vi. Group the clicks based on location and find out which city has the highest number of clicks.\n",
    "     vii. Count the number of pages visited per useragent and which is the most common device/browser?\n",
    "    viii. How many times the user has browsed the same URL? Also calcuated this based on the session time.\n",
    "      ix. Compute the number of clicks per person per session?\n",
    "       x. For a given hour window, list the websites visited by each user and count them (Assume the hour starts   \n",
    "          with 00 minute and is a rolling window)"
   ]
  }
 ],
 "metadata": {
  "kernelspec": {
   "display_name": "Python 3",
   "language": "python",
   "name": "python3"
  },
  "language_info": {
   "codemirror_mode": {
    "name": "ipython",
    "version": 3
   },
   "file_extension": ".py",
   "mimetype": "text/x-python",
   "name": "python",
   "nbconvert_exporter": "python",
   "pygments_lexer": "ipython3",
   "version": "3.6.3"
  }
 },
 "nbformat": 4,
 "nbformat_minor": 2
}
